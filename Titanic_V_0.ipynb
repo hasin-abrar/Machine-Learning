{
  "nbformat": 4,
  "nbformat_minor": 0,
  "metadata": {
    "colab": {
      "name": "Titanic_V_0.ipynb",
      "provenance": [],
      "authorship_tag": "ABX9TyMZ+KfsmtXzjLN8YfHvpocv",
      "include_colab_link": true
    },
    "kernelspec": {
      "name": "python3",
      "display_name": "Python 3"
    }
  },
  "cells": [
    {
      "cell_type": "markdown",
      "metadata": {
        "id": "view-in-github",
        "colab_type": "text"
      },
      "source": [
        "<a href=\"https://colab.research.google.com/github/hasin-abrar/Machine-Learning/blob/master/Titanic_V_0.ipynb\" target=\"_parent\"><img src=\"https://colab.research.google.com/assets/colab-badge.svg\" alt=\"Open In Colab\"/></a>"
      ]
    },
    {
      "cell_type": "code",
      "metadata": {
        "id": "mrG8lGpbioZ5",
        "outputId": "e1cc0170-74f9-48fc-99fc-e5e665b8f7f6",
        "colab": {
          "base_uri": "https://localhost:8080/",
          "height": 156
        }
      },
      "source": [
        "import numpy as np\n",
        "np.random.seed(1)\n",
        "import pandas as pd\n",
        "import matplotlib.pyplot as plt\n",
        "import seaborn as sns\n",
        "from sklearn.model_selection import train_test_split\n",
        "from sklearn import preprocessing\n",
        "from sklearn.ensemble import RandomForestRegressor\n",
        "from sklearn.pipeline import make_pipeline\n",
        "from sklearn.model_selection import GridSearchCV\n",
        "from sklearn import metrics as sk_metric\n",
        "from sklearn.preprocessing import OneHotEncoder\n",
        "\n",
        "from google.colab import drive\n",
        "drive.mount('/content/drive')"
      ],
      "execution_count": null,
      "outputs": [
        {
          "output_type": "stream",
          "text": [
            "/usr/local/lib/python3.6/dist-packages/statsmodels/tools/_testing.py:19: FutureWarning: pandas.util.testing is deprecated. Use the functions in the public API at pandas.testing instead.\n",
            "  import pandas.util.testing as tm\n"
          ],
          "name": "stderr"
        },
        {
          "output_type": "stream",
          "text": [
            "Go to this URL in a browser: https://accounts.google.com/o/oauth2/auth?client_id=947318989803-6bn6qk8qdgf4n4g3pfee6491hc0brc4i.apps.googleusercontent.com&redirect_uri=urn%3aietf%3awg%3aoauth%3a2.0%3aoob&response_type=code&scope=email%20https%3a%2f%2fwww.googleapis.com%2fauth%2fdocs.test%20https%3a%2f%2fwww.googleapis.com%2fauth%2fdrive%20https%3a%2f%2fwww.googleapis.com%2fauth%2fdrive.photos.readonly%20https%3a%2f%2fwww.googleapis.com%2fauth%2fpeopleapi.readonly\n",
            "\n",
            "Enter your authorization code:\n",
            "··········\n",
            "Mounted at /content/drive\n"
          ],
          "name": "stdout"
        }
      ]
    },
    {
      "cell_type": "markdown",
      "metadata": {
        "id": "7nd22thbkyLn"
      },
      "source": [
        "* Remove Columns: Name, Ticket, Cabin\n",
        "* Replace: Emabarked with number\n",
        "* Preprocess -> Replace missing values with mode? \n",
        "* Standardize"
      ]
    },
    {
      "cell_type": "code",
      "metadata": {
        "id": "PBDqRfAzjGYn"
      },
      "source": [
        "main_directory = '/content/drive/My Drive/Colab Notebooks/Titanic/Dataset/train.csv'\n",
        "df = pd.read_csv(main_directory)\n",
        "df.head()"
      ],
      "execution_count": null,
      "outputs": []
    },
    {
      "cell_type": "code",
      "metadata": {
        "id": "O5vCuaua5YFj",
        "outputId": "a0524629-e7b5-460f-d2ee-78995b0712b8",
        "colab": {
          "base_uri": "https://localhost:8080/",
          "height": 204
        }
      },
      "source": [
        "df_reduced = df.drop(['Name', 'Ticket', 'Cabin'], axis=1)\n",
        "df_reduced.tail()"
      ],
      "execution_count": null,
      "outputs": [
        {
          "output_type": "execute_result",
          "data": {
            "text/html": [
              "<div>\n",
              "<style scoped>\n",
              "    .dataframe tbody tr th:only-of-type {\n",
              "        vertical-align: middle;\n",
              "    }\n",
              "\n",
              "    .dataframe tbody tr th {\n",
              "        vertical-align: top;\n",
              "    }\n",
              "\n",
              "    .dataframe thead th {\n",
              "        text-align: right;\n",
              "    }\n",
              "</style>\n",
              "<table border=\"1\" class=\"dataframe\">\n",
              "  <thead>\n",
              "    <tr style=\"text-align: right;\">\n",
              "      <th></th>\n",
              "      <th>PassengerId</th>\n",
              "      <th>Survived</th>\n",
              "      <th>Pclass</th>\n",
              "      <th>Sex</th>\n",
              "      <th>Age</th>\n",
              "      <th>SibSp</th>\n",
              "      <th>Parch</th>\n",
              "      <th>Fare</th>\n",
              "      <th>Embarked</th>\n",
              "    </tr>\n",
              "  </thead>\n",
              "  <tbody>\n",
              "    <tr>\n",
              "      <th>886</th>\n",
              "      <td>887</td>\n",
              "      <td>0</td>\n",
              "      <td>2</td>\n",
              "      <td>male</td>\n",
              "      <td>27.0</td>\n",
              "      <td>0</td>\n",
              "      <td>0</td>\n",
              "      <td>13.00</td>\n",
              "      <td>S</td>\n",
              "    </tr>\n",
              "    <tr>\n",
              "      <th>887</th>\n",
              "      <td>888</td>\n",
              "      <td>1</td>\n",
              "      <td>1</td>\n",
              "      <td>female</td>\n",
              "      <td>19.0</td>\n",
              "      <td>0</td>\n",
              "      <td>0</td>\n",
              "      <td>30.00</td>\n",
              "      <td>S</td>\n",
              "    </tr>\n",
              "    <tr>\n",
              "      <th>888</th>\n",
              "      <td>889</td>\n",
              "      <td>0</td>\n",
              "      <td>3</td>\n",
              "      <td>female</td>\n",
              "      <td>NaN</td>\n",
              "      <td>1</td>\n",
              "      <td>2</td>\n",
              "      <td>23.45</td>\n",
              "      <td>S</td>\n",
              "    </tr>\n",
              "    <tr>\n",
              "      <th>889</th>\n",
              "      <td>890</td>\n",
              "      <td>1</td>\n",
              "      <td>1</td>\n",
              "      <td>male</td>\n",
              "      <td>26.0</td>\n",
              "      <td>0</td>\n",
              "      <td>0</td>\n",
              "      <td>30.00</td>\n",
              "      <td>C</td>\n",
              "    </tr>\n",
              "    <tr>\n",
              "      <th>890</th>\n",
              "      <td>891</td>\n",
              "      <td>0</td>\n",
              "      <td>3</td>\n",
              "      <td>male</td>\n",
              "      <td>32.0</td>\n",
              "      <td>0</td>\n",
              "      <td>0</td>\n",
              "      <td>7.75</td>\n",
              "      <td>Q</td>\n",
              "    </tr>\n",
              "  </tbody>\n",
              "</table>\n",
              "</div>"
            ],
            "text/plain": [
              "     PassengerId  Survived  Pclass     Sex   Age  SibSp  Parch   Fare Embarked\n",
              "886          887         0       2    male  27.0      0      0  13.00        S\n",
              "887          888         1       1  female  19.0      0      0  30.00        S\n",
              "888          889         0       3  female   NaN      1      2  23.45        S\n",
              "889          890         1       1    male  26.0      0      0  30.00        C\n",
              "890          891         0       3    male  32.0      0      0   7.75        Q"
            ]
          },
          "metadata": {
            "tags": []
          },
          "execution_count": 33
        }
      ]
    },
    {
      "cell_type": "code",
      "metadata": {
        "id": "_HVdRvypDiLz"
      },
      "source": [
        "change_sex = {'male':1, 'female':2}\n",
        "change_emb = {'C':1, 'Q':2, 'S':3}\n",
        "df_reduced = df_reduced.replace({'Sex':change_sex, 'Embarked':change_emb})"
      ],
      "execution_count": null,
      "outputs": []
    },
    {
      "cell_type": "code",
      "metadata": {
        "id": "oAZtX-N67R0u"
      },
      "source": [
        "# mean = df_reduced['Age'].mean()\n",
        "# std = df_reduced['Age'].std()\n",
        "# np.random.seed(1)\n",
        "# change = lambda y: y if y>0 else df_reduced['Age'].min()\n",
        "\n",
        "df_reduced['Pclass'].fillna(df_reduced.mode().iloc[0].Pclass, inplace=True)\n",
        "df_reduced['Sex'].fillna(df_reduced.mode().iloc[0].Sex, inplace=True)\n",
        "df_reduced['Age'].fillna(df_reduced['Age'].mean(), inplace = True)\n",
        "df_reduced['SibSp'].fillna(df_reduced.mode().iloc[0].SibSp, inplace=True)\n",
        "df_reduced['Parch'].fillna(df_reduced.mode().iloc[0].Parch, inplace=True)\n",
        "df_reduced['Fare'].fillna(df_reduced['Fare'].mean(), inplace=True)\n",
        "df_reduced['Embarked'].fillna(df_reduced.mode().iloc[0].Embarked, inplace=True)"
      ],
      "execution_count": null,
      "outputs": []
    },
    {
      "cell_type": "code",
      "metadata": {
        "id": "yvIeKgJnPXTn",
        "outputId": "2d32757c-1a2c-4ed0-b8cc-398f02382955",
        "colab": {
          "base_uri": "https://localhost:8080/",
          "height": 466
        }
      },
      "source": [
        "print(df_reduced['Age'].value_counts(bins=10, ascending=False, sort= False) )\n",
        "df_reduced['Age'].value_counts(bins=10, ascending=False, sort= False).plot(kind='hist')"
      ],
      "execution_count": null,
      "outputs": [
        {
          "output_type": "stream",
          "text": [
            "(0.339, 8.378]       54\n",
            "(8.378, 16.336]      46\n",
            "(16.336, 24.294]    177\n",
            "(24.294, 32.252]    346\n",
            "(32.252, 40.21]     118\n",
            "(40.21, 48.168]      70\n",
            "(48.168, 56.126]     45\n",
            "(56.126, 64.084]     24\n",
            "(64.084, 72.042]      9\n",
            "(72.042, 80.0]        2\n",
            "Name: Age, dtype: int64\n"
          ],
          "name": "stdout"
        },
        {
          "output_type": "execute_result",
          "data": {
            "text/plain": [
              "<matplotlib.axes._subplots.AxesSubplot at 0x7f7c1331a978>"
            ]
          },
          "metadata": {
            "tags": []
          },
          "execution_count": 24
        },
        {
          "output_type": "display_data",
          "data": {
            "image/png": "[encoded data removed]",
            "text/plain": [
              "<Figure size 432x288 with 1 Axes>"
            ]
          },
          "metadata": {
            "tags": []
          }
        }
      ]
    },
    {
      "cell_type": "code",
      "metadata": {
        "id": "pvBPQyCk1uod"
      },
      "source": [
        "age = pd.DataFrame(df_reduced['Age'].value_counts(bins=10, ascending=False, sort= False) )\n",
        "age_survive = pd.concat([age, df_reduced.Survived])\n",
        "age_survive.describe()"
      ],
      "execution_count": null,
      "outputs": []
    },
    {
      "cell_type": "code",
      "metadata": {
        "id": "7azbYzx1Coi8",
        "outputId": "c0fe5436-87d0-461d-fa62-46b375c7f0a0",
        "colab": {
          "base_uri": "https://localhost:8080/",
          "height": 452
        }
      },
      "source": [
        "age_surv = pd.concat([df_reduced.Age, df_reduced.Survived], axis=1)\n",
        "age_only_surv = age_surv[age_surv.Survived==1]\n",
        "age_not_syrv = age_surv[age_surv.Survived==0]\n",
        "age_only_surv.Age.plot(kind='hist')\n",
        "age_only_surv['Age'].value_counts(bins=10, ascending=False, sort= False)"
      ],
      "execution_count": null,
      "outputs": [
        {
          "output_type": "execute_result",
          "data": {
            "text/plain": [
              "(0.339, 8.378]       36\n",
              "(8.378, 16.336]      19\n",
              "(16.336, 24.294]     63\n",
              "(24.294, 32.252]    117\n",
              "(32.252, 40.21]      52\n",
              "(40.21, 48.168]      24\n",
              "(48.168, 56.126]     21\n",
              "(56.126, 64.084]      9\n",
              "(64.084, 72.042]      0\n",
              "(72.042, 80.0]        1\n",
              "Name: Age, dtype: int64"
            ]
          },
          "metadata": {
            "tags": []
          },
          "execution_count": 17
        },
        {
          "output_type": "display_data",
          "data": {
            "image/png": "[encoded data removed]",
            "text/plain": [
              "<Figure size 432x288 with 1 Axes>"
            ]
          },
          "metadata": {
            "tags": []
          }
        }
      ]
    },
    {
      "cell_type": "code",
      "metadata": {
        "id": "lHK4QTLdD7M1",
        "outputId": "42f5e771-6d4d-4ec3-e6f5-5eab7663c913",
        "colab": {
          "base_uri": "https://localhost:8080/",
          "height": 452
        }
      },
      "source": [
        "age_not_syrv.Age.plot(kind='hist')\n",
        "age_not_syrv['Age'].value_counts(bins=10, ascending=False, sort= False)"
      ],
      "execution_count": null,
      "outputs": [
        {
          "output_type": "execute_result",
          "data": {
            "text/plain": [
              "(0.926, 8.3]     18\n",
              "(8.3, 15.6]      16\n",
              "(15.6, 22.9]     99\n",
              "(22.9, 30.2]    235\n",
              "(30.2, 37.5]     64\n",
              "(37.5, 44.8]     45\n",
              "(44.8, 52.1]     38\n",
              "(52.1, 59.4]     15\n",
              "(59.4, 66.7]     13\n",
              "(66.7, 74.0]      6\n",
              "Name: Age, dtype: int64"
            ]
          },
          "metadata": {
            "tags": []
          },
          "execution_count": 16
        },
        {
          "output_type": "display_data",
          "data": {
            "image/png": "[encoded data removed]",
            "text/plain": [
              "<Figure size 432x288 with 1 Axes>"
            ]
          },
          "metadata": {
            "tags": []
          }
        }
      ]
    },
    {
      "cell_type": "code",
      "metadata": {
        "id": "n5UxiPmkE7yY",
        "outputId": "7f185e14-9527-4927-dfae-cff19706a2df",
        "colab": {
          "base_uri": "https://localhost:8080/",
          "height": 289
        }
      },
      "source": [
        "temp = pd.concat([df_reduced.Age, df_reduced.Survived, df_reduced.Pclass], axis=1)\n",
        "print(temp.groupby(['Survived','Pclass']).std())\n",
        "print(temp.groupby(['Survived','Pclass']).mean())"
      ],
      "execution_count": null,
      "outputs": [
        {
          "output_type": "stream",
          "text": [
            "                       Age\n",
            "Survived Pclass           \n",
            "0        1       14.766000\n",
            "         2       11.742843\n",
            "         3       10.596718\n",
            "1        1       13.141263\n",
            "         2       14.510680\n",
            "         3       10.922065\n",
            "                       Age\n",
            "Survived Pclass           \n",
            "0        1       40.896074\n",
            "         2       33.266947\n",
            "         3       27.417500\n",
            "1        1       34.784615\n",
            "         2       26.076166\n",
            "         3       23.232689\n"
          ],
          "name": "stdout"
        }
      ]
    },
    {
      "cell_type": "code",
      "metadata": {
        "id": "cWSgI13-GDwz",
        "outputId": "0ddd8cb0-e33a-4a43-ac4e-0b91bfcf3682",
        "colab": {
          "base_uri": "https://localhost:8080/",
          "height": 1000
        }
      },
      "source": [
        "temp = pd.concat([df_reduced.Age, df_reduced.Survived, df_reduced.Embarked,df_reduced.Pclass,df_reduced.Sex], axis=1)\n",
        "print('STD:\\n',temp.groupby(['Survived','Sex','Embarked','Pclass']).std())\n",
        "print('Mean:\\n',temp.groupby(['Survived','Sex','Embarked','Pclass']).mean())\n",
        "print('Count:\\n',temp.groupby(['Survived','Sex','Embarked','Pclass']).count())"
      ],
      "execution_count": null,
      "outputs": [
        {
          "output_type": "stream",
          "text": [
            "STD:\n",
            "                                     Age\n",
            "Survived Sex Embarked Pclass           \n",
            "0        1   1.0      1       15.908507\n",
            "                      2        4.080173\n",
            "                      3        6.488063\n",
            "             2.0      1             NaN\n",
            "                      2             NaN\n",
            "                      3       12.822167\n",
            "             3.0      1       13.583568\n",
            "                      2       11.949460\n",
            "                      3       10.363613\n",
            "         2   1.0      1             NaN\n",
            "                      3       11.579818\n",
            "             2.0      3        6.102076\n",
            "             3.0      1       16.263456\n",
            "                      2       12.915107\n",
            "                      3       12.148156\n",
            "1        1   1.0      1       12.461622\n",
            "                      2       20.293341\n",
            "                      3        9.523689\n",
            "             2.0      3        0.403636\n",
            "             3.0      1       15.395618\n",
            "                      2       19.375524\n",
            "                      3       11.535753\n",
            "         2   1.0      1       12.367782\n",
            "                      2        8.706866\n",
            "                      3       11.813378\n",
            "             2.0      1             NaN\n",
            "                      2        0.212756\n",
            "                      3        5.161122\n",
            "             3.0      1       13.119711\n",
            "                      2       12.805018\n",
            "                      3       12.502182\n",
            "Mean:\n",
            "                                     Age\n",
            "Survived Sex Embarked Pclass           \n",
            "0        1   1.0      1       40.379824\n",
            "                      2       29.524890\n",
            "                      3       28.529902\n",
            "             2.0      1       44.000000\n",
            "                      2       57.000000\n",
            "                      3       29.113325\n",
            "             3.0      1       41.984123\n",
            "                      2       33.142618\n",
            "                      3       27.683370\n",
            "         2   1.0      1       50.000000\n",
            "                      3       24.074669\n",
            "             2.0      3       28.810719\n",
            "             3.0      1       13.500000\n",
            "                      2       36.000000\n",
            "                      3       24.781658\n",
            "1        1   1.0      1       36.041125\n",
            "                      2       15.349559\n",
            "                      3       21.851735\n",
            "             2.0      3       29.466078\n",
            "             3.0      1       35.204160\n",
            "                      2       17.935275\n",
            "                      3       23.729308\n",
            "         2   1.0      1       34.964181\n",
            "                      2       19.142857\n",
            "                      3       16.019765\n",
            "             2.0      1       33.000000\n",
            "                      2       29.849559\n",
            "                      3       27.178468\n",
            "             3.0      1       33.974926\n",
            "                      2       29.101625\n",
            "                      3       22.981765\n",
            "Count:\n",
            "                               Age\n",
            "Survived Sex Embarked Pclass     \n",
            "0        1   1.0      1        25\n",
            "                      2         8\n",
            "                      3        33\n",
            "             2.0      1         1\n",
            "                      2         1\n",
            "                      3        36\n",
            "             3.0      1        51\n",
            "                      2        82\n",
            "                      3       231\n",
            "         2   1.0      1         1\n",
            "                      3         8\n",
            "             2.0      3         9\n",
            "             3.0      1         2\n",
            "                      2         6\n",
            "                      3        55\n",
            "1        1   1.0      1        17\n",
            "                      2         2\n",
            "                      3        10\n",
            "             2.0      3         3\n",
            "             3.0      1        28\n",
            "                      2        15\n",
            "                      3        34\n",
            "         2   1.0      1        42\n",
            "                      2         7\n",
            "                      3        15\n",
            "             2.0      1         1\n",
            "                      2         2\n",
            "                      3        24\n",
            "             3.0      1        48\n",
            "                      2        61\n",
            "                      3        33\n"
          ],
          "name": "stdout"
        }
      ]
    },
    {
      "cell_type": "markdown",
      "metadata": {
        "id": "X9BSo67UN-EV"
      },
      "source": [
        "* Replace categorical data with OnehotEncoder\n",
        "* Use EDIT point of answer:\n",
        "https://stackoverflow.com/questions/58101126/using-scikit-learn-onehotencoder-with-a-pandas-dataframe\n",
        "* Auto-encoder: Use encoder part to draw a classification task from there\n",
        "* correlation to find out relation\n",
        "* try neural network at last on selective attributes"
      ]
    },
    {
      "cell_type": "code",
      "metadata": {
        "id": "Nk3jg9kvij3d",
        "outputId": "c6f0f173-d629-4b83-e20b-5da2f732d8df",
        "colab": {
          "base_uri": "https://localhost:8080/",
          "height": 136
        }
      },
      "source": [
        "df_reduced.groupby('Survived').mean()"
      ],
      "execution_count": null,
      "outputs": [
        {
          "output_type": "execute_result",
          "data": {
            "text/html": [
              "<div>\n",
              "<style scoped>\n",
              "    .dataframe tbody tr th:only-of-type {\n",
              "        vertical-align: middle;\n",
              "    }\n",
              "\n",
              "    .dataframe tbody tr th {\n",
              "        vertical-align: top;\n",
              "    }\n",
              "\n",
              "    .dataframe thead th {\n",
              "        text-align: right;\n",
              "    }\n",
              "</style>\n",
              "<table border=\"1\" class=\"dataframe\">\n",
              "  <thead>\n",
              "    <tr style=\"text-align: right;\">\n",
              "      <th></th>\n",
              "      <th>PassengerId</th>\n",
              "      <th>Pclass</th>\n",
              "      <th>Sex</th>\n",
              "      <th>Age</th>\n",
              "      <th>SibSp</th>\n",
              "      <th>Parch</th>\n",
              "      <th>Fare</th>\n",
              "      <th>Embarked</th>\n",
              "    </tr>\n",
              "    <tr>\n",
              "      <th>Survived</th>\n",
              "      <th></th>\n",
              "      <th></th>\n",
              "      <th></th>\n",
              "      <th></th>\n",
              "      <th></th>\n",
              "      <th></th>\n",
              "      <th></th>\n",
              "      <th></th>\n",
              "    </tr>\n",
              "  </thead>\n",
              "  <tbody>\n",
              "    <tr>\n",
              "      <th>0</th>\n",
              "      <td>447.016393</td>\n",
              "      <td>2.531876</td>\n",
              "      <td>1.147541</td>\n",
              "      <td>30.415100</td>\n",
              "      <td>0.553734</td>\n",
              "      <td>0.329690</td>\n",
              "      <td>22.117887</td>\n",
              "      <td>2.641166</td>\n",
              "    </tr>\n",
              "    <tr>\n",
              "      <th>1</th>\n",
              "      <td>444.368421</td>\n",
              "      <td>1.950292</td>\n",
              "      <td>1.681287</td>\n",
              "      <td>28.549778</td>\n",
              "      <td>0.473684</td>\n",
              "      <td>0.464912</td>\n",
              "      <td>48.395408</td>\n",
              "      <td>2.368421</td>\n",
              "    </tr>\n",
              "  </tbody>\n",
              "</table>\n",
              "</div>"
            ],
            "text/plain": [
              "          PassengerId    Pclass       Sex  ...     Parch       Fare  Embarked\n",
              "Survived                                   ...                               \n",
              "0          447.016393  2.531876  1.147541  ...  0.329690  22.117887  2.641166\n",
              "1          444.368421  1.950292  1.681287  ...  0.464912  48.395408  2.368421\n",
              "\n",
              "[2 rows x 8 columns]"
            ]
          },
          "metadata": {
            "tags": []
          },
          "execution_count": 7
        }
      ]
    },
    {
      "cell_type": "code",
      "metadata": {
        "id": "Q-1P1RU7D6by",
        "outputId": "d0703f94-4bce-44cc-c2e9-9df7abd67d5b",
        "colab": {
          "base_uri": "https://localhost:8080/",
          "height": 136
        }
      },
      "source": [
        "df_reduced.groupby('Survived').agg(lambda x: pd.Series.mode(x)[0])"
      ],
      "execution_count": null,
      "outputs": [
        {
          "output_type": "execute_result",
          "data": {
            "text/html": [
              "<div>\n",
              "<style scoped>\n",
              "    .dataframe tbody tr th:only-of-type {\n",
              "        vertical-align: middle;\n",
              "    }\n",
              "\n",
              "    .dataframe tbody tr th {\n",
              "        vertical-align: top;\n",
              "    }\n",
              "\n",
              "    .dataframe thead th {\n",
              "        text-align: right;\n",
              "    }\n",
              "</style>\n",
              "<table border=\"1\" class=\"dataframe\">\n",
              "  <thead>\n",
              "    <tr style=\"text-align: right;\">\n",
              "      <th></th>\n",
              "      <th>PassengerId</th>\n",
              "      <th>Pclass</th>\n",
              "      <th>Sex</th>\n",
              "      <th>Age</th>\n",
              "      <th>SibSp</th>\n",
              "      <th>Parch</th>\n",
              "      <th>Fare</th>\n",
              "      <th>Embarked</th>\n",
              "    </tr>\n",
              "    <tr>\n",
              "      <th>Survived</th>\n",
              "      <th></th>\n",
              "      <th></th>\n",
              "      <th></th>\n",
              "      <th></th>\n",
              "      <th></th>\n",
              "      <th></th>\n",
              "      <th></th>\n",
              "      <th></th>\n",
              "    </tr>\n",
              "  </thead>\n",
              "  <tbody>\n",
              "    <tr>\n",
              "      <th>0</th>\n",
              "      <td>1</td>\n",
              "      <td>3</td>\n",
              "      <td>1</td>\n",
              "      <td>29.699118</td>\n",
              "      <td>0</td>\n",
              "      <td>0</td>\n",
              "      <td>8.05</td>\n",
              "      <td>3.0</td>\n",
              "    </tr>\n",
              "    <tr>\n",
              "      <th>1</th>\n",
              "      <td>2</td>\n",
              "      <td>1</td>\n",
              "      <td>2</td>\n",
              "      <td>29.699118</td>\n",
              "      <td>0</td>\n",
              "      <td>0</td>\n",
              "      <td>13.00</td>\n",
              "      <td>3.0</td>\n",
              "    </tr>\n",
              "  </tbody>\n",
              "</table>\n",
              "</div>"
            ],
            "text/plain": [
              "          PassengerId  Pclass  Sex        Age  SibSp  Parch   Fare  Embarked\n",
              "Survived                                                                    \n",
              "0                   1       3    1  29.699118      0      0   8.05       3.0\n",
              "1                   2       1    2  29.699118      0      0  13.00       3.0"
            ]
          },
          "metadata": {
            "tags": []
          },
          "execution_count": 15
        }
      ]
    },
    {
      "cell_type": "code",
      "metadata": {
        "id": "kxW9ldNQBvAh",
        "outputId": "4dde24a2-d4ea-4846-ce7d-efb34f89947d",
        "colab": {
          "base_uri": "https://localhost:8080/",
          "height": 136
        }
      },
      "source": [
        "df_reduced.groupby('Survived').std()"
      ],
      "execution_count": null,
      "outputs": [
        {
          "output_type": "execute_result",
          "data": {
            "text/html": [
              "<div>\n",
              "<style scoped>\n",
              "    .dataframe tbody tr th:only-of-type {\n",
              "        vertical-align: middle;\n",
              "    }\n",
              "\n",
              "    .dataframe tbody tr th {\n",
              "        vertical-align: top;\n",
              "    }\n",
              "\n",
              "    .dataframe thead th {\n",
              "        text-align: right;\n",
              "    }\n",
              "</style>\n",
              "<table border=\"1\" class=\"dataframe\">\n",
              "  <thead>\n",
              "    <tr style=\"text-align: right;\">\n",
              "      <th></th>\n",
              "      <th>PassengerId</th>\n",
              "      <th>Pclass</th>\n",
              "      <th>Sex</th>\n",
              "      <th>Age</th>\n",
              "      <th>SibSp</th>\n",
              "      <th>Parch</th>\n",
              "      <th>Fare</th>\n",
              "      <th>Embarked</th>\n",
              "    </tr>\n",
              "    <tr>\n",
              "      <th>Survived</th>\n",
              "      <th></th>\n",
              "      <th></th>\n",
              "      <th></th>\n",
              "      <th></th>\n",
              "      <th></th>\n",
              "      <th></th>\n",
              "      <th></th>\n",
              "      <th></th>\n",
              "    </tr>\n",
              "  </thead>\n",
              "  <tbody>\n",
              "    <tr>\n",
              "      <th>0</th>\n",
              "      <td>260.640469</td>\n",
              "      <td>0.735805</td>\n",
              "      <td>0.354968</td>\n",
              "      <td>12.457370</td>\n",
              "      <td>1.288399</td>\n",
              "      <td>0.823166</td>\n",
              "      <td>31.388207</td>\n",
              "      <td>0.710081</td>\n",
              "    </tr>\n",
              "    <tr>\n",
              "      <th>1</th>\n",
              "      <td>252.358840</td>\n",
              "      <td>0.863321</td>\n",
              "      <td>0.466660</td>\n",
              "      <td>13.772498</td>\n",
              "      <td>0.708688</td>\n",
              "      <td>0.771712</td>\n",
              "      <td>66.596998</td>\n",
              "      <td>0.882510</td>\n",
              "    </tr>\n",
              "  </tbody>\n",
              "</table>\n",
              "</div>"
            ],
            "text/plain": [
              "          PassengerId    Pclass       Sex  ...     Parch       Fare  Embarked\n",
              "Survived                                   ...                               \n",
              "0          260.640469  0.735805  0.354968  ...  0.823166  31.388207  0.710081\n",
              "1          252.358840  0.863321  0.466660  ...  0.771712  66.596998  0.882510\n",
              "\n",
              "[2 rows x 8 columns]"
            ]
          },
          "metadata": {
            "tags": []
          },
          "execution_count": 9
        }
      ]
    },
    {
      "cell_type": "code",
      "metadata": {
        "id": "cB536iErCRJe"
      },
      "source": [
        "ohe_emb = OneHotEncoder(sparse=False)\n",
        "transformed_emb = ohe_emb.fit_transform(df_reduced['Embarked'].to_numpy().reshape(-1,1))\n",
        "# ohe_emb_df = pd.DataFrame(transformed_emb, columns=ohe_emb.get_feature_names())\n",
        "ohe_emb_df = pd.DataFrame(transformed_emb, columns=['E_1', 'E_2','E_3'])\n",
        "df_reduced_new = pd.concat([df_reduced, ohe_emb_df], axis = 1).drop('Embarked', axis = 1)\n"
      ],
      "execution_count": null,
      "outputs": []
    },
    {
      "cell_type": "code",
      "metadata": {
        "id": "_fkMVDFsejQm"
      },
      "source": [
        "ohe_sex = OneHotEncoder(sparse=False)\n",
        "transformed_sex = ohe_sex.fit_transform(df_reduced_new['Sex'].to_numpy().reshape(-1,1))\n",
        "# ohe_sex_df = pd.DataFrame(transformed_sex, columns=ohe_sex.get_feature_names())\n",
        "ohe_sex_df = pd.DataFrame(transformed_sex, columns=['Sex_1', 'Sex_2'])\n",
        "df_reduced_new = pd.concat([df_reduced_new, ohe_sex_df], axis = 1).drop('Sex', axis = 1)\n"
      ],
      "execution_count": null,
      "outputs": []
    },
    {
      "cell_type": "code",
      "metadata": {
        "id": "y0VsjCpEgma6",
        "outputId": "31401971-d3a0-4ab4-f270-433fbe6163ac",
        "colab": {
          "base_uri": "https://localhost:8080/",
          "height": 142
        }
      },
      "source": [
        "df_reduced_new.head(3)"
      ],
      "execution_count": null,
      "outputs": [
        {
          "output_type": "execute_result",
          "data": {
            "text/html": [
              "<div>\n",
              "<style scoped>\n",
              "    .dataframe tbody tr th:only-of-type {\n",
              "        vertical-align: middle;\n",
              "    }\n",
              "\n",
              "    .dataframe tbody tr th {\n",
              "        vertical-align: top;\n",
              "    }\n",
              "\n",
              "    .dataframe thead th {\n",
              "        text-align: right;\n",
              "    }\n",
              "</style>\n",
              "<table border=\"1\" class=\"dataframe\">\n",
              "  <thead>\n",
              "    <tr style=\"text-align: right;\">\n",
              "      <th></th>\n",
              "      <th>PassengerId</th>\n",
              "      <th>Survived</th>\n",
              "      <th>Pclass</th>\n",
              "      <th>Age</th>\n",
              "      <th>SibSp</th>\n",
              "      <th>Parch</th>\n",
              "      <th>Fare</th>\n",
              "      <th>E_1</th>\n",
              "      <th>E_2</th>\n",
              "      <th>E_3</th>\n",
              "      <th>Sex_1</th>\n",
              "      <th>Sex_2</th>\n",
              "    </tr>\n",
              "  </thead>\n",
              "  <tbody>\n",
              "    <tr>\n",
              "      <th>0</th>\n",
              "      <td>1</td>\n",
              "      <td>0</td>\n",
              "      <td>3</td>\n",
              "      <td>22.0</td>\n",
              "      <td>1</td>\n",
              "      <td>0</td>\n",
              "      <td>7.2500</td>\n",
              "      <td>0.0</td>\n",
              "      <td>0.0</td>\n",
              "      <td>1.0</td>\n",
              "      <td>1.0</td>\n",
              "      <td>0.0</td>\n",
              "    </tr>\n",
              "    <tr>\n",
              "      <th>1</th>\n",
              "      <td>2</td>\n",
              "      <td>1</td>\n",
              "      <td>1</td>\n",
              "      <td>38.0</td>\n",
              "      <td>1</td>\n",
              "      <td>0</td>\n",
              "      <td>71.2833</td>\n",
              "      <td>1.0</td>\n",
              "      <td>0.0</td>\n",
              "      <td>0.0</td>\n",
              "      <td>0.0</td>\n",
              "      <td>1.0</td>\n",
              "    </tr>\n",
              "    <tr>\n",
              "      <th>2</th>\n",
              "      <td>3</td>\n",
              "      <td>1</td>\n",
              "      <td>3</td>\n",
              "      <td>26.0</td>\n",
              "      <td>0</td>\n",
              "      <td>0</td>\n",
              "      <td>7.9250</td>\n",
              "      <td>0.0</td>\n",
              "      <td>0.0</td>\n",
              "      <td>1.0</td>\n",
              "      <td>0.0</td>\n",
              "      <td>1.0</td>\n",
              "    </tr>\n",
              "  </tbody>\n",
              "</table>\n",
              "</div>"
            ],
            "text/plain": [
              "   PassengerId  Survived  Pclass   Age  SibSp  ...  E_1  E_2  E_3  Sex_1  Sex_2\n",
              "0            1         0       3  22.0      1  ...  0.0  0.0  1.0    1.0    0.0\n",
              "1            2         1       1  38.0      1  ...  1.0  0.0  0.0    0.0    1.0\n",
              "2            3         1       3  26.0      0  ...  0.0  0.0  1.0    0.0    1.0\n",
              "\n",
              "[3 rows x 12 columns]"
            ]
          },
          "metadata": {
            "tags": []
          },
          "execution_count": 40
        }
      ]
    },
    {
      "cell_type": "code",
      "metadata": {
        "id": "nwbbHs2dCV2o"
      },
      "source": [
        "y = df_reduced_new.Survived\n",
        "X = df_reduced_new.drop(['Survived','PassengerId','Age', 'SibSp', 'Parch','Fare'],axis = 1)\n",
        "X_train, X_test, y_train, y_test = train_test_split(\n",
        "    X,y,test_size=0.2, random_state=123, stratify=y\n",
        ")"
      ],
      "execution_count": null,
      "outputs": []
    },
    {
      "cell_type": "code",
      "metadata": {
        "id": "YQVCEDVrlRrU",
        "outputId": "c5e5ad1c-69d7-4a70-e5fd-4d54a748b090",
        "colab": {
          "base_uri": "https://localhost:8080/",
          "height": 287
        }
      },
      "source": [
        "# temp = pd.concat([df_reduced_new.Age, df_reduced_new.Fare], axis = 1)\n",
        "corr = X_train.corr()\n",
        "sns.heatmap(corr)\n",
        "# temp.head()"
      ],
      "execution_count": null,
      "outputs": [
        {
          "output_type": "execute_result",
          "data": {
            "text/plain": [
              "<matplotlib.axes._subplots.AxesSubplot at 0x7f2bc9f43518>"
            ]
          },
          "metadata": {
            "tags": []
          },
          "execution_count": 43
        },
        {
          "output_type": "display_data",
          "data": {
            "image/png": "[encoded data removed]",
            "text/plain": [
              "<Figure size 432x288 with 2 Axes>"
            ]
          },
          "metadata": {
            "tags": []
          }
        }
      ]
    },
    {
      "cell_type": "code",
      "metadata": {
        "id": "m1g9v0WerVvw"
      },
      "source": [
        "temp = pd.concat([X_train,y_train],axis = 1)\n",
        "# temp.head()\n",
        "sns.lmplot(x='Age', y='Fare',data=temp, hue = 'Survived')"
      ],
      "execution_count": null,
      "outputs": []
    },
    {
      "cell_type": "code",
      "metadata": {
        "id": "pqpirfpDr9F2",
        "outputId": "69c1dd79-e394-47cd-8823-46f0e70d810e",
        "colab": {
          "base_uri": "https://localhost:8080/",
          "height": 284
        }
      },
      "source": [
        "X_train.describe()"
      ],
      "execution_count": null,
      "outputs": [
        {
          "output_type": "execute_result",
          "data": {
            "text/html": [
              "<div>\n",
              "<style scoped>\n",
              "    .dataframe tbody tr th:only-of-type {\n",
              "        vertical-align: middle;\n",
              "    }\n",
              "\n",
              "    .dataframe tbody tr th {\n",
              "        vertical-align: top;\n",
              "    }\n",
              "\n",
              "    .dataframe thead th {\n",
              "        text-align: right;\n",
              "    }\n",
              "</style>\n",
              "<table border=\"1\" class=\"dataframe\">\n",
              "  <thead>\n",
              "    <tr style=\"text-align: right;\">\n",
              "      <th></th>\n",
              "      <th>Pclass</th>\n",
              "      <th>Fare</th>\n",
              "      <th>E_1</th>\n",
              "      <th>E_2</th>\n",
              "      <th>E_3</th>\n",
              "      <th>Sex_1</th>\n",
              "      <th>Sex_2</th>\n",
              "    </tr>\n",
              "  </thead>\n",
              "  <tbody>\n",
              "    <tr>\n",
              "      <th>count</th>\n",
              "      <td>712.000000</td>\n",
              "      <td>712.000000</td>\n",
              "      <td>712.000000</td>\n",
              "      <td>712.000000</td>\n",
              "      <td>712.000000</td>\n",
              "      <td>712.000000</td>\n",
              "      <td>712.000000</td>\n",
              "    </tr>\n",
              "    <tr>\n",
              "      <th>mean</th>\n",
              "      <td>2.334270</td>\n",
              "      <td>31.437616</td>\n",
              "      <td>0.196629</td>\n",
              "      <td>0.080056</td>\n",
              "      <td>0.723315</td>\n",
              "      <td>0.646067</td>\n",
              "      <td>0.353933</td>\n",
              "    </tr>\n",
              "    <tr>\n",
              "      <th>std</th>\n",
              "      <td>0.823737</td>\n",
              "      <td>50.599913</td>\n",
              "      <td>0.397729</td>\n",
              "      <td>0.271571</td>\n",
              "      <td>0.447674</td>\n",
              "      <td>0.478525</td>\n",
              "      <td>0.478525</td>\n",
              "    </tr>\n",
              "    <tr>\n",
              "      <th>min</th>\n",
              "      <td>1.000000</td>\n",
              "      <td>0.000000</td>\n",
              "      <td>0.000000</td>\n",
              "      <td>0.000000</td>\n",
              "      <td>0.000000</td>\n",
              "      <td>0.000000</td>\n",
              "      <td>0.000000</td>\n",
              "    </tr>\n",
              "    <tr>\n",
              "      <th>25%</th>\n",
              "      <td>2.000000</td>\n",
              "      <td>7.895800</td>\n",
              "      <td>0.000000</td>\n",
              "      <td>0.000000</td>\n",
              "      <td>0.000000</td>\n",
              "      <td>0.000000</td>\n",
              "      <td>0.000000</td>\n",
              "    </tr>\n",
              "    <tr>\n",
              "      <th>50%</th>\n",
              "      <td>3.000000</td>\n",
              "      <td>14.454200</td>\n",
              "      <td>0.000000</td>\n",
              "      <td>0.000000</td>\n",
              "      <td>1.000000</td>\n",
              "      <td>1.000000</td>\n",
              "      <td>0.000000</td>\n",
              "    </tr>\n",
              "    <tr>\n",
              "      <th>75%</th>\n",
              "      <td>3.000000</td>\n",
              "      <td>30.178100</td>\n",
              "      <td>0.000000</td>\n",
              "      <td>0.000000</td>\n",
              "      <td>1.000000</td>\n",
              "      <td>1.000000</td>\n",
              "      <td>1.000000</td>\n",
              "    </tr>\n",
              "    <tr>\n",
              "      <th>max</th>\n",
              "      <td>3.000000</td>\n",
              "      <td>512.329200</td>\n",
              "      <td>1.000000</td>\n",
              "      <td>1.000000</td>\n",
              "      <td>1.000000</td>\n",
              "      <td>1.000000</td>\n",
              "      <td>1.000000</td>\n",
              "    </tr>\n",
              "  </tbody>\n",
              "</table>\n",
              "</div>"
            ],
            "text/plain": [
              "           Pclass        Fare         E_1  ...         E_3       Sex_1       Sex_2\n",
              "count  712.000000  712.000000  712.000000  ...  712.000000  712.000000  712.000000\n",
              "mean     2.334270   31.437616    0.196629  ...    0.723315    0.646067    0.353933\n",
              "std      0.823737   50.599913    0.397729  ...    0.447674    0.478525    0.478525\n",
              "min      1.000000    0.000000    0.000000  ...    0.000000    0.000000    0.000000\n",
              "25%      2.000000    7.895800    0.000000  ...    0.000000    0.000000    0.000000\n",
              "50%      3.000000   14.454200    0.000000  ...    1.000000    1.000000    0.000000\n",
              "75%      3.000000   30.178100    0.000000  ...    1.000000    1.000000    1.000000\n",
              "max      3.000000  512.329200    1.000000  ...    1.000000    1.000000    1.000000\n",
              "\n",
              "[8 rows x 7 columns]"
            ]
          },
          "metadata": {
            "tags": []
          },
          "execution_count": 23
        }
      ]
    },
    {
      "cell_type": "code",
      "metadata": {
        "id": "tHmeCJhtwLrA"
      },
      "source": [
        "pipeline = make_pipeline(preprocessing.StandardScaler(), RandomForestRegressor(n_estimators=100))\n",
        "hyperparameters = {'randomforestregressor__max_features': ['auto', 'sqrt', 'log2'],\n",
        "                   'randomforestregressor__max_depth': [None, 5,3,1]}"
      ],
      "execution_count": null,
      "outputs": []
    },
    {
      "cell_type": "code",
      "metadata": {
        "id": "LcCUnHOtwv8q",
        "outputId": "47ef919c-c07a-4b0c-842d-d9c175a50fc6",
        "colab": {
          "base_uri": "https://localhost:8080/",
          "height": 527
        }
      },
      "source": [
        "clf = GridSearchCV(pipeline,hyperparameters,cv=10)\n",
        "clf.fit(X_train, y_train)"
      ],
      "execution_count": null,
      "outputs": [
        {
          "output_type": "execute_result",
          "data": {
            "text/plain": [
              "GridSearchCV(cv=10, error_score=nan,\n",
              "             estimator=Pipeline(memory=None,\n",
              "                                steps=[('standardscaler',\n",
              "                                        StandardScaler(copy=True,\n",
              "                                                       with_mean=True,\n",
              "                                                       with_std=True)),\n",
              "                                       ('randomforestregressor',\n",
              "                                        RandomForestRegressor(bootstrap=True,\n",
              "                                                              ccp_alpha=0.0,\n",
              "                                                              criterion='mse',\n",
              "                                                              max_depth=None,\n",
              "                                                              max_features='auto',\n",
              "                                                              max_leaf_nodes=None,\n",
              "                                                              max_samples=None,\n",
              "                                                              min_impurity_decrease=0.0,\n",
              "                                                              min_impurity_...\n",
              "                                                              min_weight_fraction_leaf=0.0,\n",
              "                                                              n_estimators=100,\n",
              "                                                              n_jobs=None,\n",
              "                                                              oob_score=False,\n",
              "                                                              random_state=None,\n",
              "                                                              verbose=0,\n",
              "                                                              warm_start=False))],\n",
              "                                verbose=False),\n",
              "             iid='deprecated', n_jobs=None,\n",
              "             param_grid={'randomforestregressor__max_depth': [None, 5, 3, 1],\n",
              "                         'randomforestregressor__max_features': ['auto', 'sqrt',\n",
              "                                                                 'log2']},\n",
              "             pre_dispatch='2*n_jobs', refit=True, return_train_score=False,\n",
              "             scoring=None, verbose=0)"
            ]
          },
          "metadata": {
            "tags": []
          },
          "execution_count": 45
        }
      ]
    },
    {
      "cell_type": "code",
      "metadata": {
        "id": "Saa9QGnEw3Hg",
        "outputId": "bccdfce5-3e74-4997-8e84-ae07dc306e37",
        "colab": {
          "base_uri": "https://localhost:8080/",
          "height": 68
        }
      },
      "source": [
        "print(clf.best_params_)\n",
        "y_pred = np.around(clf.predict(X_test))\n",
        "from sklearn.metrics import mean_squared_error, r2_score\n",
        "print(r2_score(y_test, y_pred))\n",
        "print(mean_squared_error(y_test,y_pred))"
      ],
      "execution_count": null,
      "outputs": [
        {
          "output_type": "stream",
          "text": [
            "{'randomforestregressor__max_depth': 3, 'randomforestregressor__max_features': 'auto'}\n",
            "0.19815546772068504\n",
            "0.18994413407821228\n"
          ],
          "name": "stdout"
        }
      ]
    },
    {
      "cell_type": "code",
      "metadata": {
        "id": "SlJsEndVxP8e",
        "outputId": "193dbf0f-89b2-44c2-9930-a5086bb32f5d",
        "colab": {
          "base_uri": "https://localhost:8080/",
          "height": 374
        }
      },
      "source": [
        "from sklearn.svm import SVC\n",
        "pipeline = make_pipeline(preprocessing.StandardScaler(), SVC(random_state=1))\n",
        "hyperparameters = {'svc__kernel': ['linear', 'rbf', 'sigmoid']}\n",
        "clf = GridSearchCV(pipeline,hyperparameters,cv=10)\n",
        "clf.fit(X_train, y_train)"
      ],
      "execution_count": null,
      "outputs": [
        {
          "output_type": "execute_result",
          "data": {
            "text/plain": [
              "GridSearchCV(cv=10, error_score=nan,\n",
              "             estimator=Pipeline(memory=None,\n",
              "                                steps=[('standardscaler',\n",
              "                                        StandardScaler(copy=True,\n",
              "                                                       with_mean=True,\n",
              "                                                       with_std=True)),\n",
              "                                       ('svc',\n",
              "                                        SVC(C=1.0, break_ties=False,\n",
              "                                            cache_size=200, class_weight=None,\n",
              "                                            coef0=0.0,\n",
              "                                            decision_function_shape='ovr',\n",
              "                                            degree=3, gamma='scale',\n",
              "                                            kernel='rbf', max_iter=-1,\n",
              "                                            probability=False, random_state=1,\n",
              "                                            shrinking=True, tol=0.001,\n",
              "                                            verbose=False))],\n",
              "                                verbose=False),\n",
              "             iid='deprecated', n_jobs=None,\n",
              "             param_grid={'svc__kernel': ['linear', 'rbf', 'sigmoid']},\n",
              "             pre_dispatch='2*n_jobs', refit=True, return_train_score=False,\n",
              "             scoring=None, verbose=0)"
            ]
          },
          "metadata": {
            "tags": []
          },
          "execution_count": 50
        }
      ]
    },
    {
      "cell_type": "code",
      "metadata": {
        "id": "PvqnzT1nxY1K",
        "outputId": "76fb5458-684d-4e15-888c-f190366f3693",
        "colab": {
          "base_uri": "https://localhost:8080/",
          "height": 85
        }
      },
      "source": [
        "print(clf.best_params_)\n",
        "y_pred = np.around(clf.predict(X_test))\n",
        "from sklearn.metrics import confusion_matrix\n",
        "y_test_arr = y_test.to_numpy()\n",
        "cm = confusion_matrix(y_test_arr, y_pred)\n",
        "print(cm)\n",
        "from sklearn.metrics import accuracy_score\n",
        "print(accuracy_score(y_test, y_pred))"
      ],
      "execution_count": null,
      "outputs": [
        {
          "output_type": "stream",
          "text": [
            "{'svc__kernel': 'rbf'}\n",
            "[[103   7]\n",
            " [ 27  42]]\n",
            "0.8100558659217877\n"
          ],
          "name": "stdout"
        }
      ]
    }
  ]
}