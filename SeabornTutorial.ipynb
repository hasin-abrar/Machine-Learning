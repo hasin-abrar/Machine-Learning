{
  "nbformat": 4,
  "nbformat_minor": 0,
  "metadata": {
    "colab": {
      "name": "SeabornTutorial.ipynb",
      "provenance": [],
      "authorship_tag": "ABX9TyN7CWNBAhz+EwsmvdSDkMTb",
      "include_colab_link": true
    },
    "kernelspec": {
      "name": "python3",
      "display_name": "Python 3"
    }
  },
  "cells": [
    {
      "cell_type": "markdown",
      "metadata": {
        "id": "view-in-github",
        "colab_type": "text"
      },
      "source": [
        "<a href=\"https://colab.research.google.com/github/hasin-abrar/Machine-Learning/blob/master/SeabornTutorial.ipynb\" target=\"_parent\"><img src=\"https://colab.research.google.com/assets/colab-badge.svg\" alt=\"Open In Colab\"/></a>"
      ]
    },
    {
      "cell_type": "code",
      "metadata": {
        "id": "e5WOX36W0qlK",
        "outputId": "811dabfb-1de7-4db0-dd82-6e2d87c6dda1",
        "colab": {
          "base_uri": "https://localhost:8080/",
          "height": 121
        }
      },
      "source": [
        "import pandas as pd\n",
        "import matplotlib.pyplot as plt\n",
        "import seaborn as sns\n",
        "\n",
        "from google.colab import drive\n",
        "drive.mount('/content/drive')\n"
      ],
      "execution_count": null,
      "outputs": [
        {
          "output_type": "stream",
          "text": [
            "Go to this URL in a browser: https://accounts.google.com/o/oauth2/auth?client_id=947318989803-6bn6qk8qdgf4n4g3pfee6491hc0brc4i.apps.googleusercontent.com&redirect_uri=urn%3aietf%3awg%3aoauth%3a2.0%3aoob&response_type=code&scope=email%20https%3a%2f%2fwww.googleapis.com%2fauth%2fdocs.test%20https%3a%2f%2fwww.googleapis.com%2fauth%2fdrive%20https%3a%2f%2fwww.googleapis.com%2fauth%2fdrive.photos.readonly%20https%3a%2f%2fwww.googleapis.com%2fauth%2fpeopleapi.readonly\n",
            "\n",
            "Enter your authorization code:\n",
            "··········\n",
            "Mounted at /content/drive\n"
          ],
          "name": "stdout"
        }
      ]
    },
    {
      "cell_type": "code",
      "metadata": {
        "id": "AvkP4b5s1dqf",
        "outputId": "4619870a-a05d-49a4-8ee0-b41c0e7bb064",
        "colab": {
          "base_uri": "https://localhost:8080/",
          "height": 225
        }
      },
      "source": [
        "main_directory = '/content/drive/My Drive/Colab Notebooks/Seaborn/Pokemon.csv'\n",
        "df = pd.read_csv(main_directory, index_col=0,encoding = \"ISO-8859-1\")\n",
        "df.head()\n",
        "# with open(main_directory, 'rb') as f:\n",
        "#   text = f.read()"
      ],
      "execution_count": null,
      "outputs": [
        {
          "output_type": "execute_result",
          "data": {
            "text/html": [
              "<div>\n",
              "<style scoped>\n",
              "    .dataframe tbody tr th:only-of-type {\n",
              "        vertical-align: middle;\n",
              "    }\n",
              "\n",
              "    .dataframe tbody tr th {\n",
              "        vertical-align: top;\n",
              "    }\n",
              "\n",
              "    .dataframe thead th {\n",
              "        text-align: right;\n",
              "    }\n",
              "</style>\n",
              "<table border=\"1\" class=\"dataframe\">\n",
              "  <thead>\n",
              "    <tr style=\"text-align: right;\">\n",
              "      <th></th>\n",
              "      <th>Name</th>\n",
              "      <th>Type 1</th>\n",
              "      <th>Type 2</th>\n",
              "      <th>Total</th>\n",
              "      <th>HP</th>\n",
              "      <th>Attack</th>\n",
              "      <th>Defense</th>\n",
              "      <th>Sp. Atk</th>\n",
              "      <th>Sp. Def</th>\n",
              "      <th>Speed</th>\n",
              "      <th>Stage</th>\n",
              "      <th>Legendary</th>\n",
              "    </tr>\n",
              "    <tr>\n",
              "      <th>#</th>\n",
              "      <th></th>\n",
              "      <th></th>\n",
              "      <th></th>\n",
              "      <th></th>\n",
              "      <th></th>\n",
              "      <th></th>\n",
              "      <th></th>\n",
              "      <th></th>\n",
              "      <th></th>\n",
              "      <th></th>\n",
              "      <th></th>\n",
              "      <th></th>\n",
              "    </tr>\n",
              "  </thead>\n",
              "  <tbody>\n",
              "    <tr>\n",
              "      <th>1</th>\n",
              "      <td>Bulbasaur</td>\n",
              "      <td>Grass</td>\n",
              "      <td>Poison</td>\n",
              "      <td>318</td>\n",
              "      <td>45</td>\n",
              "      <td>49</td>\n",
              "      <td>49</td>\n",
              "      <td>65</td>\n",
              "      <td>65</td>\n",
              "      <td>45</td>\n",
              "      <td>1</td>\n",
              "      <td>False</td>\n",
              "    </tr>\n",
              "    <tr>\n",
              "      <th>2</th>\n",
              "      <td>Ivysaur</td>\n",
              "      <td>Grass</td>\n",
              "      <td>Poison</td>\n",
              "      <td>405</td>\n",
              "      <td>60</td>\n",
              "      <td>62</td>\n",
              "      <td>63</td>\n",
              "      <td>80</td>\n",
              "      <td>80</td>\n",
              "      <td>60</td>\n",
              "      <td>2</td>\n",
              "      <td>False</td>\n",
              "    </tr>\n",
              "    <tr>\n",
              "      <th>3</th>\n",
              "      <td>Venusaur</td>\n",
              "      <td>Grass</td>\n",
              "      <td>Poison</td>\n",
              "      <td>525</td>\n",
              "      <td>80</td>\n",
              "      <td>82</td>\n",
              "      <td>83</td>\n",
              "      <td>100</td>\n",
              "      <td>100</td>\n",
              "      <td>80</td>\n",
              "      <td>3</td>\n",
              "      <td>False</td>\n",
              "    </tr>\n",
              "    <tr>\n",
              "      <th>4</th>\n",
              "      <td>Charmander</td>\n",
              "      <td>Fire</td>\n",
              "      <td>NaN</td>\n",
              "      <td>309</td>\n",
              "      <td>39</td>\n",
              "      <td>52</td>\n",
              "      <td>43</td>\n",
              "      <td>60</td>\n",
              "      <td>50</td>\n",
              "      <td>65</td>\n",
              "      <td>1</td>\n",
              "      <td>False</td>\n",
              "    </tr>\n",
              "    <tr>\n",
              "      <th>5</th>\n",
              "      <td>Charmeleon</td>\n",
              "      <td>Fire</td>\n",
              "      <td>NaN</td>\n",
              "      <td>405</td>\n",
              "      <td>58</td>\n",
              "      <td>64</td>\n",
              "      <td>58</td>\n",
              "      <td>80</td>\n",
              "      <td>65</td>\n",
              "      <td>80</td>\n",
              "      <td>2</td>\n",
              "      <td>False</td>\n",
              "    </tr>\n",
              "  </tbody>\n",
              "</table>\n",
              "</div>"
            ],
            "text/plain": [
              "         Name Type 1  Type 2  Total  ...  Sp. Def  Speed  Stage  Legendary\n",
              "#                                    ...                                  \n",
              "1   Bulbasaur  Grass  Poison    318  ...       65     45      1      False\n",
              "2     Ivysaur  Grass  Poison    405  ...       80     60      2      False\n",
              "3    Venusaur  Grass  Poison    525  ...      100     80      3      False\n",
              "4  Charmander   Fire     NaN    309  ...       50     65      1      False\n",
              "5  Charmeleon   Fire     NaN    405  ...       65     80      2      False\n",
              "\n",
              "[5 rows x 12 columns]"
            ]
          },
          "metadata": {
            "tags": []
          },
          "execution_count": 2
        }
      ]
    },
    {
      "cell_type": "code",
      "metadata": {
        "id": "0-t0bhJg5zit",
        "outputId": "97db8187-e4c3-472b-8dc6-1bea6c90393b",
        "colab": {
          "base_uri": "https://localhost:8080/",
          "height": 386
        }
      },
      "source": [
        "sns.lmplot(x='Attack', y='Defense',data=df,fit_reg=False, hue='Stage')"
      ],
      "execution_count": null,
      "outputs": [
        {
          "output_type": "execute_result",
          "data": {
            "text/plain": [
              "<seaborn.axisgrid.FacetGrid at 0x7f7201d740b8>"
            ]
          },
          "metadata": {
            "tags": []
          },
          "execution_count": 3
        },
        {
          "output_type": "display_data",
          "data": {
            "image/png": "[encoded data removed]",
            "text/plain": [
              "<Figure size 402.375x360 with 1 Axes>"
            ]
          },
          "metadata": {
            "tags": []
          }
        }
      ]
    },
    {
      "cell_type": "code",
      "metadata": {
        "id": "xZgA0s9-mXMS",
        "outputId": "74d34be5-8ba0-4485-a90e-d51a44d6ad4d",
        "colab": {
          "base_uri": "https://localhost:8080/",
          "height": 284
        }
      },
      "source": [
        "df.describe()"
      ],
      "execution_count": null,
      "outputs": [
        {
          "output_type": "execute_result",
          "data": {
            "text/html": [
              "<div>\n",
              "<style scoped>\n",
              "    .dataframe tbody tr th:only-of-type {\n",
              "        vertical-align: middle;\n",
              "    }\n",
              "\n",
              "    .dataframe tbody tr th {\n",
              "        vertical-align: top;\n",
              "    }\n",
              "\n",
              "    .dataframe thead th {\n",
              "        text-align: right;\n",
              "    }\n",
              "</style>\n",
              "<table border=\"1\" class=\"dataframe\">\n",
              "  <thead>\n",
              "    <tr style=\"text-align: right;\">\n",
              "      <th></th>\n",
              "      <th>Total</th>\n",
              "      <th>HP</th>\n",
              "      <th>Attack</th>\n",
              "      <th>Defense</th>\n",
              "      <th>Sp. Atk</th>\n",
              "      <th>Sp. Def</th>\n",
              "      <th>Speed</th>\n",
              "      <th>Stage</th>\n",
              "    </tr>\n",
              "  </thead>\n",
              "  <tbody>\n",
              "    <tr>\n",
              "      <th>count</th>\n",
              "      <td>151.00000</td>\n",
              "      <td>151.000000</td>\n",
              "      <td>151.000000</td>\n",
              "      <td>151.000000</td>\n",
              "      <td>151.000000</td>\n",
              "      <td>151.000000</td>\n",
              "      <td>151.000000</td>\n",
              "      <td>151.000000</td>\n",
              "    </tr>\n",
              "    <tr>\n",
              "      <th>mean</th>\n",
              "      <td>407.07947</td>\n",
              "      <td>64.211921</td>\n",
              "      <td>72.549669</td>\n",
              "      <td>68.225166</td>\n",
              "      <td>67.139073</td>\n",
              "      <td>66.019868</td>\n",
              "      <td>68.933775</td>\n",
              "      <td>1.582781</td>\n",
              "    </tr>\n",
              "    <tr>\n",
              "      <th>std</th>\n",
              "      <td>99.74384</td>\n",
              "      <td>28.590117</td>\n",
              "      <td>26.596162</td>\n",
              "      <td>26.916704</td>\n",
              "      <td>28.534199</td>\n",
              "      <td>24.197926</td>\n",
              "      <td>26.746880</td>\n",
              "      <td>0.676832</td>\n",
              "    </tr>\n",
              "    <tr>\n",
              "      <th>min</th>\n",
              "      <td>195.00000</td>\n",
              "      <td>10.000000</td>\n",
              "      <td>5.000000</td>\n",
              "      <td>5.000000</td>\n",
              "      <td>15.000000</td>\n",
              "      <td>20.000000</td>\n",
              "      <td>15.000000</td>\n",
              "      <td>1.000000</td>\n",
              "    </tr>\n",
              "    <tr>\n",
              "      <th>25%</th>\n",
              "      <td>320.00000</td>\n",
              "      <td>45.000000</td>\n",
              "      <td>51.000000</td>\n",
              "      <td>50.000000</td>\n",
              "      <td>45.000000</td>\n",
              "      <td>49.000000</td>\n",
              "      <td>46.500000</td>\n",
              "      <td>1.000000</td>\n",
              "    </tr>\n",
              "    <tr>\n",
              "      <th>50%</th>\n",
              "      <td>405.00000</td>\n",
              "      <td>60.000000</td>\n",
              "      <td>70.000000</td>\n",
              "      <td>65.000000</td>\n",
              "      <td>65.000000</td>\n",
              "      <td>65.000000</td>\n",
              "      <td>70.000000</td>\n",
              "      <td>1.000000</td>\n",
              "    </tr>\n",
              "    <tr>\n",
              "      <th>75%</th>\n",
              "      <td>490.00000</td>\n",
              "      <td>80.000000</td>\n",
              "      <td>90.000000</td>\n",
              "      <td>84.000000</td>\n",
              "      <td>87.500000</td>\n",
              "      <td>80.000000</td>\n",
              "      <td>90.000000</td>\n",
              "      <td>2.000000</td>\n",
              "    </tr>\n",
              "    <tr>\n",
              "      <th>max</th>\n",
              "      <td>680.00000</td>\n",
              "      <td>250.000000</td>\n",
              "      <td>134.000000</td>\n",
              "      <td>180.000000</td>\n",
              "      <td>154.000000</td>\n",
              "      <td>125.000000</td>\n",
              "      <td>140.000000</td>\n",
              "      <td>3.000000</td>\n",
              "    </tr>\n",
              "  </tbody>\n",
              "</table>\n",
              "</div>"
            ],
            "text/plain": [
              "           Total          HP      Attack  ...     Sp. Def       Speed       Stage\n",
              "count  151.00000  151.000000  151.000000  ...  151.000000  151.000000  151.000000\n",
              "mean   407.07947   64.211921   72.549669  ...   66.019868   68.933775    1.582781\n",
              "std     99.74384   28.590117   26.596162  ...   24.197926   26.746880    0.676832\n",
              "min    195.00000   10.000000    5.000000  ...   20.000000   15.000000    1.000000\n",
              "25%    320.00000   45.000000   51.000000  ...   49.000000   46.500000    1.000000\n",
              "50%    405.00000   60.000000   70.000000  ...   65.000000   70.000000    1.000000\n",
              "75%    490.00000   80.000000   90.000000  ...   80.000000   90.000000    2.000000\n",
              "max    680.00000  250.000000  134.000000  ...  125.000000  140.000000    3.000000\n",
              "\n",
              "[8 rows x 8 columns]"
            ]
          },
          "metadata": {
            "tags": []
          },
          "execution_count": 4
        }
      ]
    },
    {
      "cell_type": "code",
      "metadata": {
        "id": "ILvxo7hrmv1n",
        "outputId": "cf9985ff-f3e9-4aa3-9742-81368d43fd46",
        "colab": {
          "base_uri": "https://localhost:8080/",
          "height": 386
        }
      },
      "source": [
        "sns.lmplot(x='Attack', y='Defense', data=df, fit_reg=False, hue= 'Stage' )\n",
        "\n",
        "plt.ylim(0,None)\n",
        "plt.xlim(0,None)"
      ],
      "execution_count": null,
      "outputs": [
        {
          "output_type": "execute_result",
          "data": {
            "text/plain": [
              "(0.0, 140.45)"
            ]
          },
          "metadata": {
            "tags": []
          },
          "execution_count": 5
        },
        {
          "output_type": "display_data",
          "data": {
            "image/png": "[encoded data removed]",
            "text/plain": [
              "<Figure size 402.375x360 with 1 Axes>"
            ]
          },
          "metadata": {
            "tags": []
          }
        }
      ]
    },
    {
      "cell_type": "code",
      "metadata": {
        "id": "sIE_uP8Cm0n_",
        "outputId": "88044f24-237c-4754-e4b0-0ecf1dc486fb",
        "colab": {
          "base_uri": "https://localhost:8080/",
          "height": 282
        }
      },
      "source": [
        "sns.boxplot(data=df)"
      ],
      "execution_count": null,
      "outputs": [
        {
          "output_type": "execute_result",
          "data": {
            "text/plain": [
              "<matplotlib.axes._subplots.AxesSubplot at 0x7f71dca13668>"
            ]
          },
          "metadata": {
            "tags": []
          },
          "execution_count": 6
        },
        {
          "output_type": "display_data",
          "data": {
            "image/png": "[encoded data removed]",
            "text/plain": [
              "<Figure size 432x288 with 1 Axes>"
            ]
          },
          "metadata": {
            "tags": []
          }
        }
      ]
    },
    {
      "cell_type": "code",
      "metadata": {
        "id": "m0eNhvuGJYSY",
        "outputId": "f2cfdf35-3b2b-4316-bad6-4373b7e9b9cc",
        "colab": {
          "base_uri": "https://localhost:8080/",
          "height": 433
        }
      },
      "source": [
        "stats_df = df.drop(labels=['Total', 'Stage', 'Legendary'], axis=1)\n",
        "stats_df.head()\n",
        "print(stats_df.describe())\n",
        "sns.set_style('whitegrid')\n",
        "sns.boxplot(data=stats_df)"
      ],
      "execution_count": null,
      "outputs": [
        {
          "output_type": "stream",
          "text": [
            "               HP      Attack     Defense     Sp. Atk     Sp. Def       Speed\n",
            "count  151.000000  151.000000  151.000000  151.000000  151.000000  151.000000\n",
            "mean    64.211921   72.549669   68.225166   67.139073   66.019868   68.933775\n",
            "std     28.590117   26.596162   26.916704   28.534199   24.197926   26.746880\n",
            "min     10.000000    5.000000    5.000000   15.000000   20.000000   15.000000\n",
            "25%     45.000000   51.000000   50.000000   45.000000   49.000000   46.500000\n",
            "50%     60.000000   70.000000   65.000000   65.000000   65.000000   70.000000\n",
            "75%     80.000000   90.000000   84.000000   87.500000   80.000000   90.000000\n",
            "max    250.000000  134.000000  180.000000  154.000000  125.000000  140.000000\n"
          ],
          "name": "stdout"
        },
        {
          "output_type": "execute_result",
          "data": {
            "text/plain": [
              "<matplotlib.axes._subplots.AxesSubplot at 0x7f71dc51c828>"
            ]
          },
          "metadata": {
            "tags": []
          },
          "execution_count": 12
        },
        {
          "output_type": "display_data",
          "data": {
            "image/png": "[encoded data removed]",
            "text/plain": [
              "<Figure size 432x288 with 1 Axes>"
            ]
          },
          "metadata": {
            "tags": []
          }
        }
      ]
    },
    {
      "cell_type": "code",
      "metadata": {
        "id": "6vSVVVGlM0GP",
        "outputId": "5bcb2b74-2469-4901-afbd-6f5d8962cca9",
        "colab": {
          "base_uri": "https://localhost:8080/",
          "height": 538
        }
      },
      "source": [
        "corr = stats_df.corr()\n",
        "print(stats_df.head())\n",
        "print(corr)\n",
        "new_df = stats_df.drop(labels=['Name','Type 1','Type 2'], axis = 1)\n",
        "print(corr.min().min(), corr.max().max())\n",
        "sns.heatmap(corr,vmin=corr.min().min(), vmax=corr.max().max())"
      ],
      "execution_count": null,
      "outputs": [
        {
          "output_type": "stream",
          "text": [
            "         Name Type 1  Type 2  HP  Attack  Defense  Sp. Atk  Sp. Def  Speed\n",
            "#                                                                         \n",
            "1   Bulbasaur  Grass  Poison  45      49       49       65       65     45\n",
            "2     Ivysaur  Grass  Poison  60      62       63       80       80     60\n",
            "3    Venusaur  Grass  Poison  80      82       83      100      100     80\n",
            "4  Charmander   Fire     NaN  39      52       43       60       50     65\n",
            "5  Charmeleon   Fire     NaN  58      64       58       80       65     80\n",
            "               HP    Attack   Defense   Sp. Atk   Sp. Def     Speed\n",
            "HP       1.000000  0.306768  0.119782  0.236649  0.490978 -0.040939\n",
            "Attack   0.306768  1.000000  0.491965  0.146312  0.369069  0.194701\n",
            "Defense  0.119782  0.491965  1.000000  0.187569  0.139912 -0.053252\n",
            "Sp. Atk  0.236649  0.146312  0.187569  1.000000  0.522907  0.411516\n",
            "Sp. Def  0.490978  0.369069  0.139912  0.522907  1.000000  0.392656\n",
            "Speed   -0.040939  0.194701 -0.053252  0.411516  0.392656  1.000000\n",
            "-0.053252266295502136 1.0\n"
          ],
          "name": "stdout"
        },
        {
          "output_type": "execute_result",
          "data": {
            "text/plain": [
              "<matplotlib.axes._subplots.AxesSubplot at 0x7f71dae24748>"
            ]
          },
          "metadata": {
            "tags": []
          },
          "execution_count": 29
        },
        {
          "output_type": "display_data",
          "data": {
            "image/png": "[encoded data removed]",
            "text/plain": [
              "<Figure size 432x288 with 2 Axes>"
            ]
          },
          "metadata": {
            "tags": []
          }
        }
      ]
    }
  ]
}